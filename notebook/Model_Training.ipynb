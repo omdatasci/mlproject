{
  "cells": [
    {
      "cell_type": "code",
      "execution_count": 2,
      "metadata": {
        "colab": {
          "base_uri": "https://localhost:8080/"
        },
        "id": "krfGaxdRNUS5",
        "outputId": "170f5eaa-6c66-4e83-9ff3-106d241627f1"
      },
      "outputs": [
        {
          "name": "stdout",
          "output_type": "stream",
          "text": [
            "Requirement already satisfied: catboost in c:\\users\\omkar sawant\\anaconda3\\lib\\site-packages (1.2.7)\n",
            "Requirement already satisfied: graphviz in c:\\users\\omkar sawant\\anaconda3\\lib\\site-packages (from catboost) (0.20.1)\n",
            "Requirement already satisfied: matplotlib in c:\\users\\omkar sawant\\anaconda3\\lib\\site-packages (from catboost) (3.5.2)\n",
            "Requirement already satisfied: numpy<2.0,>=1.16.0 in c:\\users\\omkar sawant\\anaconda3\\lib\\site-packages (from catboost) (1.24.4)\n",
            "Requirement already satisfied: pandas>=0.24 in c:\\users\\omkar sawant\\anaconda3\\lib\\site-packages (from catboost) (1.4.4)\n",
            "Requirement already satisfied: scipy in c:\\users\\omkar sawant\\anaconda3\\lib\\site-packages (from catboost) (1.9.1)\n",
            "Requirement already satisfied: plotly in c:\\users\\omkar sawant\\anaconda3\\lib\\site-packages (from catboost) (5.9.0)\n",
            "Requirement already satisfied: six in c:\\users\\omkar sawant\\anaconda3\\lib\\site-packages (from catboost) (1.16.0)\n",
            "Requirement already satisfied: python-dateutil>=2.8.1 in c:\\users\\omkar sawant\\anaconda3\\lib\\site-packages (from pandas>=0.24->catboost) (2.8.2)\n",
            "Requirement already satisfied: pytz>=2020.1 in c:\\users\\omkar sawant\\anaconda3\\lib\\site-packages (from pandas>=0.24->catboost) (2022.1)\n",
            "Requirement already satisfied: cycler>=0.10 in c:\\users\\omkar sawant\\anaconda3\\lib\\site-packages (from matplotlib->catboost) (0.11.0)\n",
            "Requirement already satisfied: fonttools>=4.22.0 in c:\\users\\omkar sawant\\anaconda3\\lib\\site-packages (from matplotlib->catboost) (4.25.0)\n",
            "Requirement already satisfied: kiwisolver>=1.0.1 in c:\\users\\omkar sawant\\anaconda3\\lib\\site-packages (from matplotlib->catboost) (1.4.2)\n",
            "Requirement already satisfied: packaging>=20.0 in c:\\users\\omkar sawant\\anaconda3\\lib\\site-packages (from matplotlib->catboost) (21.3)\n",
            "Requirement already satisfied: pillow>=6.2.0 in c:\\users\\omkar sawant\\anaconda3\\lib\\site-packages (from matplotlib->catboost) (9.2.0)\n",
            "Requirement already satisfied: pyparsing>=2.2.1 in c:\\users\\omkar sawant\\anaconda3\\lib\\site-packages (from matplotlib->catboost) (3.0.9)\n",
            "Requirement already satisfied: tenacity>=6.2.0 in c:\\users\\omkar sawant\\anaconda3\\lib\\site-packages (from plotly->catboost) (8.0.1)\n"
          ]
        },
        {
          "name": "stderr",
          "output_type": "stream",
          "text": [
            "WARNING: There was an error checking the latest version of pip.\n"
          ]
        }
      ],
      "source": [
        "# Import Libraries\n",
        "import pandas as pd\n",
        "import numpy as np\n",
        "import matplotlib.pyplot as plt\n",
        "import seaborn as sns\n",
        "\n",
        "from sklearn.metrics import mean_squared_error, r2_score\n",
        "from sklearn.neighbors import KNeighborsRegressor\n",
        "from sklearn.tree import DecisionTreeRegressor\n",
        "from sklearn.ensemble import RandomForestRegressor, AdaBoostRegressor\n",
        "from sklearn.svm import SVR\n",
        "from sklearn.linear_model import LinearRegression, Ridge, Lasso\n",
        "from sklearn.metrics import r2_score, mean_absolute_error, mean_squared_error\n",
        "from sklearn.model_selection import RandomizedSearchCV\n",
        "!pip install catboost\n",
        "from catboost import CatBoostRegressor\n",
        "from xgboost import XGBRegressor\n",
        "import warnings\n",
        "\n"
      ]
    },
    {
      "cell_type": "code",
      "execution_count": 3,
      "metadata": {
        "id": "Qt3D0yULNWFP"
      },
      "outputs": [],
      "source": [
        "df = pd.read_csv('data/stud.csv')"
      ]
    },
    {
      "cell_type": "code",
      "execution_count": 4,
      "metadata": {
        "colab": {
          "base_uri": "https://localhost:8080/",
          "height": 226
        },
        "id": "sklEqIakNWJ7",
        "outputId": "db954e30-f00a-4cfe-ec69-5898fa1e27e7"
      },
      "outputs": [
        {
          "data": {
            "text/html": [
              "<div>\n",
              "<style scoped>\n",
              "    .dataframe tbody tr th:only-of-type {\n",
              "        vertical-align: middle;\n",
              "    }\n",
              "\n",
              "    .dataframe tbody tr th {\n",
              "        vertical-align: top;\n",
              "    }\n",
              "\n",
              "    .dataframe thead th {\n",
              "        text-align: right;\n",
              "    }\n",
              "</style>\n",
              "<table border=\"1\" class=\"dataframe\">\n",
              "  <thead>\n",
              "    <tr style=\"text-align: right;\">\n",
              "      <th></th>\n",
              "      <th>gender</th>\n",
              "      <th>race_ethnicity</th>\n",
              "      <th>parental_level_of_education</th>\n",
              "      <th>lunch</th>\n",
              "      <th>test_preparation_course</th>\n",
              "      <th>math_score</th>\n",
              "      <th>reading_score</th>\n",
              "      <th>writing_score</th>\n",
              "    </tr>\n",
              "  </thead>\n",
              "  <tbody>\n",
              "    <tr>\n",
              "      <th>0</th>\n",
              "      <td>female</td>\n",
              "      <td>group B</td>\n",
              "      <td>bachelor's degree</td>\n",
              "      <td>standard</td>\n",
              "      <td>none</td>\n",
              "      <td>72</td>\n",
              "      <td>72</td>\n",
              "      <td>74</td>\n",
              "    </tr>\n",
              "    <tr>\n",
              "      <th>1</th>\n",
              "      <td>female</td>\n",
              "      <td>group C</td>\n",
              "      <td>some college</td>\n",
              "      <td>standard</td>\n",
              "      <td>completed</td>\n",
              "      <td>69</td>\n",
              "      <td>90</td>\n",
              "      <td>88</td>\n",
              "    </tr>\n",
              "    <tr>\n",
              "      <th>2</th>\n",
              "      <td>female</td>\n",
              "      <td>group B</td>\n",
              "      <td>master's degree</td>\n",
              "      <td>standard</td>\n",
              "      <td>none</td>\n",
              "      <td>90</td>\n",
              "      <td>95</td>\n",
              "      <td>93</td>\n",
              "    </tr>\n",
              "    <tr>\n",
              "      <th>3</th>\n",
              "      <td>male</td>\n",
              "      <td>group A</td>\n",
              "      <td>associate's degree</td>\n",
              "      <td>free/reduced</td>\n",
              "      <td>none</td>\n",
              "      <td>47</td>\n",
              "      <td>57</td>\n",
              "      <td>44</td>\n",
              "    </tr>\n",
              "    <tr>\n",
              "      <th>4</th>\n",
              "      <td>male</td>\n",
              "      <td>group C</td>\n",
              "      <td>some college</td>\n",
              "      <td>standard</td>\n",
              "      <td>none</td>\n",
              "      <td>76</td>\n",
              "      <td>78</td>\n",
              "      <td>75</td>\n",
              "    </tr>\n",
              "  </tbody>\n",
              "</table>\n",
              "</div>"
            ],
            "text/plain": [
              "   gender race_ethnicity parental_level_of_education         lunch  \\\n",
              "0  female        group B           bachelor's degree      standard   \n",
              "1  female        group C                some college      standard   \n",
              "2  female        group B             master's degree      standard   \n",
              "3    male        group A          associate's degree  free/reduced   \n",
              "4    male        group C                some college      standard   \n",
              "\n",
              "  test_preparation_course  math_score  reading_score  writing_score  \n",
              "0                    none          72             72             74  \n",
              "1               completed          69             90             88  \n",
              "2                    none          90             95             93  \n",
              "3                    none          47             57             44  \n",
              "4                    none          76             78             75  "
            ]
          },
          "execution_count": 4,
          "metadata": {},
          "output_type": "execute_result"
        }
      ],
      "source": [
        "df.head()"
      ]
    },
    {
      "cell_type": "code",
      "execution_count": 5,
      "metadata": {
        "colab": {
          "base_uri": "https://localhost:8080/"
        },
        "id": "gCSszvgMb7jj",
        "outputId": "e26dd0be-b72d-462c-994c-a74f55e6b616"
      },
      "outputs": [
        {
          "name": "stdout",
          "output_type": "stream",
          "text": [
            "<class 'pandas.core.frame.DataFrame'>\n",
            "RangeIndex: 1000 entries, 0 to 999\n",
            "Data columns (total 8 columns):\n",
            " #   Column                       Non-Null Count  Dtype \n",
            "---  ------                       --------------  ----- \n",
            " 0   gender                       1000 non-null   object\n",
            " 1   race_ethnicity               1000 non-null   object\n",
            " 2   parental_level_of_education  1000 non-null   object\n",
            " 3   lunch                        1000 non-null   object\n",
            " 4   test_preparation_course      1000 non-null   object\n",
            " 5   math_score                   1000 non-null   int64 \n",
            " 6   reading_score                1000 non-null   int64 \n",
            " 7   writing_score                1000 non-null   int64 \n",
            "dtypes: int64(3), object(5)\n",
            "memory usage: 62.6+ KB\n"
          ]
        }
      ],
      "source": [
        "df.info()"
      ]
    },
    {
      "cell_type": "code",
      "execution_count": 6,
      "metadata": {
        "id": "_-j3NIzCNWMa"
      },
      "outputs": [],
      "source": [
        "# Preparing x and y variables\n",
        "x = df.drop(columns=['math_score'], axis=1)\n",
        "y = df['math_score']"
      ]
    },
    {
      "cell_type": "code",
      "execution_count": 7,
      "metadata": {
        "id": "WAUxIE4gNWPR"
      },
      "outputs": [],
      "source": [
        "# Create column transformer with 3 types of transformers\n",
        "num_features = x.select_dtypes(exclude='object').columns\n",
        "cat_features = x.select_dtypes(include='object').columns\n",
        "\n",
        "from sklearn.preprocessing import OneHotEncoder, StandardScaler\n",
        "from sklearn.compose import ColumnTransformer\n",
        "\n",
        "oh_transformer = OneHotEncoder()\n",
        "numeric_transformer = StandardScaler()\n",
        "\n",
        "preprocessor = ColumnTransformer(\n",
        "    [\n",
        "        ('OneHotEncoder', oh_transformer, cat_features),\n",
        "        ('StandardScaler', numeric_transformer, num_features)\n",
        "    ]\n",
        ")"
      ]
    },
    {
      "cell_type": "code",
      "execution_count": 8,
      "metadata": {
        "id": "ct2ZBOcTNWTO"
      },
      "outputs": [],
      "source": [
        "x = preprocessor.fit_transform(x)"
      ]
    },
    {
      "cell_type": "code",
      "execution_count": 9,
      "metadata": {
        "colab": {
          "base_uri": "https://localhost:8080/"
        },
        "id": "ZiQcP8yENWVV",
        "outputId": "b284ab79-3ffe-4073-c6a1-725b597baad4"
      },
      "outputs": [
        {
          "data": {
            "text/plain": [
              "array([[1.        , 0.        , 0.        , 1.        , 0.        ,\n",
              "        0.        , 0.        , 0.        , 1.        , 0.        ,\n",
              "        0.        , 0.        , 0.        , 0.        , 1.        ,\n",
              "        0.        , 1.        , 0.19399858, 0.39149181]])"
            ]
          },
          "execution_count": 9,
          "metadata": {},
          "output_type": "execute_result"
        }
      ],
      "source": [
        "x[0:1]"
      ]
    },
    {
      "cell_type": "code",
      "execution_count": 10,
      "metadata": {
        "colab": {
          "base_uri": "https://localhost:8080/"
        },
        "id": "bN_12oYTNWXs",
        "outputId": "f2e5e520-a47b-4b86-b321-ddc8d7007b64"
      },
      "outputs": [
        {
          "data": {
            "text/plain": [
              "(1000, 19)"
            ]
          },
          "execution_count": 10,
          "metadata": {},
          "output_type": "execute_result"
        }
      ],
      "source": [
        "x.shape"
      ]
    },
    {
      "cell_type": "code",
      "execution_count": 11,
      "metadata": {
        "id": "Jmg-bl2aNWdo"
      },
      "outputs": [],
      "source": [
        "# Saparate dataset into train and test\n",
        "from sklearn.model_selection import train_test_split\n",
        "x_train, x_test, y_train, y_test = train_test_split(x, y, test_size=0.2, random_state=42)\n"
      ]
    },
    {
      "cell_type": "code",
      "execution_count": 12,
      "metadata": {
        "colab": {
          "base_uri": "https://localhost:8080/"
        },
        "id": "PJJw_eNvNWiz",
        "outputId": "21b8a8e5-3599-4ca2-a2c2-9657b1a5db82"
      },
      "outputs": [
        {
          "name": "stdout",
          "output_type": "stream",
          "text": [
            "(800, 19) (200, 19)\n"
          ]
        }
      ],
      "source": [
        "print(x_train.shape, x_test.shape)"
      ]
    },
    {
      "cell_type": "code",
      "execution_count": 13,
      "metadata": {
        "id": "PZpVRCNoNWmR"
      },
      "outputs": [],
      "source": [
        "# Create an evaluate function to give all metrics after model training\n",
        "def evaluate_model(true, predicted):\n",
        "  mae = mean_absolute_error(true, predicted)\n",
        "  mse = mean_squared_error(true, predicted)\n",
        "  rmse = np.sqrt(mean_squared_error(true, predicted))\n",
        "  r2_square = r2_score(true, predicted)\n",
        "  return mae, rmse, r2_square"
      ]
    },
    {
      "cell_type": "code",
      "execution_count": 14,
      "metadata": {
        "colab": {
          "base_uri": "https://localhost:8080/"
        },
        "id": "4jkIp6hGNWpl",
        "outputId": "2f0532a1-1895-415f-f4a7-16fa2515bde1"
      },
      "outputs": [
        {
          "name": "stdout",
          "output_type": "stream",
          "text": [
            "Linear Regression\n",
            "Model performance for training set\n",
            "- Root Mean Squared Error: 5.3303\n",
            "- Mean Absolute Error: 4.2675\n",
            "- R2 Score: 0.8740\n",
            "-----------------------------------------------------------------------\n",
            "Model performance for test set\n",
            "- Root Mean Squared Error: 5.4017\n",
            "- Mean Absolute Error: 4.2255\n",
            "- R2 Score: 0.8801\n",
            "===================================\n",
            "\n",
            "\n",
            "Lasso\n",
            "Model performance for training set\n",
            "- Root Mean Squared Error: 6.5938\n",
            "- Mean Absolute Error: 5.2063\n",
            "- R2 Score: 0.8071\n",
            "-----------------------------------------------------------------------\n",
            "Model performance for test set\n",
            "- Root Mean Squared Error: 6.5197\n",
            "- Mean Absolute Error: 5.1579\n",
            "- R2 Score: 0.8253\n",
            "===================================\n",
            "\n",
            "\n",
            "Ridge\n",
            "Model performance for training set\n",
            "- Root Mean Squared Error: 5.3233\n",
            "- Mean Absolute Error: 4.2650\n",
            "- R2 Score: 0.8743\n",
            "-----------------------------------------------------------------------\n",
            "Model performance for test set\n",
            "- Root Mean Squared Error: 5.3904\n",
            "- Mean Absolute Error: 4.2111\n",
            "- R2 Score: 0.8806\n",
            "===================================\n",
            "\n",
            "\n",
            "K-Neighbors Regressor\n",
            "Model performance for training set\n",
            "- Root Mean Squared Error: 5.7055\n",
            "- Mean Absolute Error: 4.5122\n",
            "- R2 Score: 0.8556\n",
            "-----------------------------------------------------------------------\n",
            "Model performance for test set\n",
            "- Root Mean Squared Error: 7.2634\n",
            "- Mean Absolute Error: 5.6590\n",
            "- R2 Score: 0.7832\n",
            "===================================\n",
            "\n",
            "\n",
            "Decision Tree\n",
            "Model performance for training set\n",
            "- Root Mean Squared Error: 0.2795\n",
            "- Mean Absolute Error: 0.0187\n",
            "- R2 Score: 0.9997\n",
            "-----------------------------------------------------------------------\n",
            "Model performance for test set\n",
            "- Root Mean Squared Error: 8.1759\n",
            "- Mean Absolute Error: 6.3650\n",
            "- R2 Score: 0.7253\n",
            "===================================\n",
            "\n",
            "\n",
            "Random Forest Regressor\n",
            "Model performance for training set\n",
            "- Root Mean Squared Error: 2.3140\n",
            "- Mean Absolute Error: 1.8241\n",
            "- R2 Score: 0.9762\n",
            "-----------------------------------------------------------------------\n",
            "Model performance for test set\n",
            "- Root Mean Squared Error: 6.0690\n",
            "- Mean Absolute Error: 4.6926\n",
            "- R2 Score: 0.8486\n",
            "===================================\n",
            "\n",
            "\n",
            "XGBRegressor\n",
            "Model performance for training set\n",
            "- Root Mean Squared Error: 0.9087\n",
            "- Mean Absolute Error: 0.6148\n",
            "- R2 Score: 0.9963\n",
            "-----------------------------------------------------------------------\n",
            "Model performance for test set\n",
            "- Root Mean Squared Error: 6.5889\n",
            "- Mean Absolute Error: 5.0844\n",
            "- R2 Score: 0.8216\n",
            "===================================\n",
            "\n",
            "\n",
            "CatBoosting Regressor\n",
            "Model performance for training set\n",
            "- Root Mean Squared Error: 3.0427\n",
            "- Mean Absolute Error: 2.4054\n",
            "- R2 Score: 0.9589\n",
            "-----------------------------------------------------------------------\n",
            "Model performance for test set\n",
            "- Root Mean Squared Error: 6.0086\n",
            "- Mean Absolute Error: 4.6125\n",
            "- R2 Score: 0.8516\n",
            "===================================\n",
            "\n",
            "\n",
            "AdaBoost Regressor\n",
            "Model performance for training set\n",
            "- Root Mean Squared Error: 5.7422\n",
            "- Mean Absolute Error: 4.6763\n",
            "- R2 Score: 0.8537\n",
            "-----------------------------------------------------------------------\n",
            "Model performance for test set\n",
            "- Root Mean Squared Error: 6.0088\n",
            "- Mean Absolute Error: 4.6928\n",
            "- R2 Score: 0.8516\n",
            "===================================\n",
            "\n",
            "\n"
          ]
        }
      ],
      "source": [
        "models ={\n",
        "    \"Linear Regression\": LinearRegression(),\n",
        "    \"Lasso\": Lasso(),\n",
        "    \"Ridge\": Ridge(),\n",
        "    \"K-Neighbors Regressor\": KNeighborsRegressor(),\n",
        "    \"Decision Tree\": DecisionTreeRegressor(),\n",
        "    \"Random Forest Regressor\": RandomForestRegressor(),\n",
        "    \"XGBRegressor\": XGBRegressor(),\n",
        "    \"CatBoosting Regressor\": CatBoostRegressor(verbose=False),\n",
        "    \"AdaBoost Regressor\": AdaBoostRegressor()\n",
        "}\n",
        "\n",
        "model_list = []\n",
        "r2_list = []\n",
        "\n",
        "for i in range(len(list(models))):\n",
        "  model = list(models.values())[i]\n",
        "  model.fit(x_train, y_train) # Train Model\n",
        "\n",
        "  # Make predictions\n",
        "  y_train_pred = model.predict(x_train)\n",
        "  y_test_pred = model.predict(x_test)\n",
        "\n",
        "  # Evaluate train and test dataset\n",
        "  model_train_mae, model_train_rmse, model_train_r2 = evaluate_model(y_train, y_train_pred)\n",
        "  model_test_mae, model_test_rmse, model_test_r2 = evaluate_model(y_test, y_test_pred)\n",
        "\n",
        "  print(list(models.keys())[i])\n",
        "  model_list.append(list(models.keys())[i])\n",
        "\n",
        "  print('Model performance for training set')\n",
        "  print(\"- Root Mean Squared Error: {:.4f}\".format(model_train_rmse))\n",
        "  print(\"- Mean Absolute Error: {:.4f}\".format(model_train_mae))\n",
        "  print(\"- R2 Score: {:.4f}\".format(model_train_r2))\n",
        "\n",
        "  print('-----------------------------------------------------------------------')\n",
        "\n",
        "  print('Model performance for test set')\n",
        "  print(\"- Root Mean Squared Error: {:.4f}\".format(model_test_rmse))\n",
        "  print(\"- Mean Absolute Error: {:.4f}\".format(model_test_mae))\n",
        "  print(\"- R2 Score: {:.4f}\".format(model_test_r2))\n",
        "  r2_list.append(model_test_r2)\n",
        "\n",
        "  print('='*35)\n",
        "  print('\\n')\n",
        "\n",
        "\n",
        "\n"
      ]
    },
    {
      "cell_type": "code",
      "execution_count": 15,
      "metadata": {
        "colab": {
          "base_uri": "https://localhost:8080/",
          "height": 331
        },
        "id": "yTIosDyPNWtd",
        "outputId": "763167de-4d11-4713-ad78-2ce092eab838"
      },
      "outputs": [
        {
          "data": {
            "text/html": [
              "<div>\n",
              "<style scoped>\n",
              "    .dataframe tbody tr th:only-of-type {\n",
              "        vertical-align: middle;\n",
              "    }\n",
              "\n",
              "    .dataframe tbody tr th {\n",
              "        vertical-align: top;\n",
              "    }\n",
              "\n",
              "    .dataframe thead th {\n",
              "        text-align: right;\n",
              "    }\n",
              "</style>\n",
              "<table border=\"1\" class=\"dataframe\">\n",
              "  <thead>\n",
              "    <tr style=\"text-align: right;\">\n",
              "      <th></th>\n",
              "      <th>Model Name</th>\n",
              "      <th>R2_Score</th>\n",
              "    </tr>\n",
              "  </thead>\n",
              "  <tbody>\n",
              "    <tr>\n",
              "      <th>2</th>\n",
              "      <td>Ridge</td>\n",
              "      <td>0.880593</td>\n",
              "    </tr>\n",
              "    <tr>\n",
              "      <th>0</th>\n",
              "      <td>Linear Regression</td>\n",
              "      <td>0.880091</td>\n",
              "    </tr>\n",
              "    <tr>\n",
              "      <th>7</th>\n",
              "      <td>CatBoosting Regressor</td>\n",
              "      <td>0.851632</td>\n",
              "    </tr>\n",
              "    <tr>\n",
              "      <th>8</th>\n",
              "      <td>AdaBoost Regressor</td>\n",
              "      <td>0.851622</td>\n",
              "    </tr>\n",
              "    <tr>\n",
              "      <th>5</th>\n",
              "      <td>Random Forest Regressor</td>\n",
              "      <td>0.848637</td>\n",
              "    </tr>\n",
              "    <tr>\n",
              "      <th>1</th>\n",
              "      <td>Lasso</td>\n",
              "      <td>0.825320</td>\n",
              "    </tr>\n",
              "    <tr>\n",
              "      <th>6</th>\n",
              "      <td>XGBRegressor</td>\n",
              "      <td>0.821589</td>\n",
              "    </tr>\n",
              "    <tr>\n",
              "      <th>3</th>\n",
              "      <td>K-Neighbors Regressor</td>\n",
              "      <td>0.783193</td>\n",
              "    </tr>\n",
              "    <tr>\n",
              "      <th>4</th>\n",
              "      <td>Decision Tree</td>\n",
              "      <td>0.725300</td>\n",
              "    </tr>\n",
              "  </tbody>\n",
              "</table>\n",
              "</div>"
            ],
            "text/plain": [
              "                Model Name  R2_Score\n",
              "2                    Ridge  0.880593\n",
              "0        Linear Regression  0.880091\n",
              "7    CatBoosting Regressor  0.851632\n",
              "8       AdaBoost Regressor  0.851622\n",
              "5  Random Forest Regressor  0.848637\n",
              "1                    Lasso  0.825320\n",
              "6             XGBRegressor  0.821589\n",
              "3    K-Neighbors Regressor  0.783193\n",
              "4            Decision Tree  0.725300"
            ]
          },
          "execution_count": 15,
          "metadata": {},
          "output_type": "execute_result"
        }
      ],
      "source": [
        "# Results\n",
        "pd.DataFrame(list(zip(model_list, r2_list)), columns=['Model Name', 'R2_Score']).sort_values(by=['R2_Score'], ascending=False)"
      ]
    },
    {
      "cell_type": "code",
      "execution_count": 16,
      "metadata": {
        "colab": {
          "base_uri": "https://localhost:8080/"
        },
        "id": "nBjZLxh6NWw5",
        "outputId": "dc17d6e1-3b24-455e-deff-250afd661922"
      },
      "outputs": [
        {
          "name": "stdout",
          "output_type": "stream",
          "text": [
            "Accuracy of the model is 88.01\n"
          ]
        }
      ],
      "source": [
        "# Linear Regression Model\n",
        "lin_model = LinearRegression(fit_intercept=True)\n",
        "lin_model = lin_model.fit(x_train, y_train)\n",
        "y_pred = lin_model.predict(x_test)\n",
        "score = r2_score(y_test, y_pred)*100\n",
        "print(\"Accuracy of the model is %.2f\" %score)"
      ]
    },
    {
      "cell_type": "code",
      "execution_count": 17,
      "metadata": {
        "colab": {
          "base_uri": "https://localhost:8080/",
          "height": 449
        },
        "id": "PwibUNLuNW0b",
        "outputId": "039b2771-d986-4084-cbc9-a1aabb7f3e25"
      },
      "outputs": [
        {
          "data": {
            "image/png": "[encoded data removed]",
            "text/plain": [
              "<Figure size 640x480 with 1 Axes>"
            ]
          },
          "metadata": {},
          "output_type": "display_data"
        }
      ],
      "source": [
        "# Plot y_pred and y_test\n",
        "plt.scatter(y_test, y_pred);\n",
        "plt.xlabel('Actual');\n",
        "plt.ylabel('Predicted');"
      ]
    },
    {
      "cell_type": "code",
      "execution_count": 18,
      "metadata": {
        "colab": {
          "base_uri": "https://localhost:8080/",
          "height": 468
        },
        "id": "5OIf-xRZNW3M",
        "outputId": "39691113-416c-4bce-aba7-a1ca7cc4c008"
      },
      "outputs": [
        {
          "data": {
            "text/plain": [
              "<AxesSubplot:xlabel='math_score'>"
            ]
          },
          "execution_count": 18,
          "metadata": {},
          "output_type": "execute_result"
        },
        {
          "data": {
            "image/png": "[encoded data removed]",
            "text/plain": [
              "<Figure size 640x480 with 1 Axes>"
            ]
          },
          "metadata": {},
          "output_type": "display_data"
        }
      ],
      "source": [
        "sns.regplot(x=y_test, y=y_pred, ci=None, color='red')"
      ]
    },
    {
      "cell_type": "code",
      "execution_count": 19,
      "metadata": {
        "colab": {
          "base_uri": "https://localhost:8080/",
          "height": 423
        },
        "id": "fMY0M81iNW6T",
        "outputId": "db5c49a8-b215-4ee9-c5d8-50f973f32a56"
      },
      "outputs": [
        {
          "data": {
            "text/html": [
              "<div>\n",
              "<style scoped>\n",
              "    .dataframe tbody tr th:only-of-type {\n",
              "        vertical-align: middle;\n",
              "    }\n",
              "\n",
              "    .dataframe tbody tr th {\n",
              "        vertical-align: top;\n",
              "    }\n",
              "\n",
              "    .dataframe thead th {\n",
              "        text-align: right;\n",
              "    }\n",
              "</style>\n",
              "<table border=\"1\" class=\"dataframe\">\n",
              "  <thead>\n",
              "    <tr style=\"text-align: right;\">\n",
              "      <th></th>\n",
              "      <th>Actual Value</th>\n",
              "      <th>Predicted Value</th>\n",
              "      <th>Difference</th>\n",
              "    </tr>\n",
              "  </thead>\n",
              "  <tbody>\n",
              "    <tr>\n",
              "      <th>521</th>\n",
              "      <td>91</td>\n",
              "      <td>76.37500</td>\n",
              "      <td>14.62500</td>\n",
              "    </tr>\n",
              "    <tr>\n",
              "      <th>737</th>\n",
              "      <td>53</td>\n",
              "      <td>59.03125</td>\n",
              "      <td>-6.03125</td>\n",
              "    </tr>\n",
              "    <tr>\n",
              "      <th>740</th>\n",
              "      <td>80</td>\n",
              "      <td>76.46875</td>\n",
              "      <td>3.53125</td>\n",
              "    </tr>\n",
              "    <tr>\n",
              "      <th>660</th>\n",
              "      <td>74</td>\n",
              "      <td>77.09375</td>\n",
              "      <td>-3.09375</td>\n",
              "    </tr>\n",
              "    <tr>\n",
              "      <th>411</th>\n",
              "      <td>84</td>\n",
              "      <td>87.96875</td>\n",
              "      <td>-3.96875</td>\n",
              "    </tr>\n",
              "    <tr>\n",
              "      <th>...</th>\n",
              "      <td>...</td>\n",
              "      <td>...</td>\n",
              "      <td>...</td>\n",
              "    </tr>\n",
              "    <tr>\n",
              "      <th>408</th>\n",
              "      <td>52</td>\n",
              "      <td>43.78125</td>\n",
              "      <td>8.21875</td>\n",
              "    </tr>\n",
              "    <tr>\n",
              "      <th>332</th>\n",
              "      <td>62</td>\n",
              "      <td>62.43750</td>\n",
              "      <td>-0.43750</td>\n",
              "    </tr>\n",
              "    <tr>\n",
              "      <th>208</th>\n",
              "      <td>74</td>\n",
              "      <td>67.62500</td>\n",
              "      <td>6.37500</td>\n",
              "    </tr>\n",
              "    <tr>\n",
              "      <th>613</th>\n",
              "      <td>65</td>\n",
              "      <td>67.03125</td>\n",
              "      <td>-2.03125</td>\n",
              "    </tr>\n",
              "    <tr>\n",
              "      <th>78</th>\n",
              "      <td>61</td>\n",
              "      <td>62.56250</td>\n",
              "      <td>-1.56250</td>\n",
              "    </tr>\n",
              "  </tbody>\n",
              "</table>\n",
              "<p>200 rows × 3 columns</p>\n",
              "</div>"
            ],
            "text/plain": [
              "     Actual Value  Predicted Value  Difference\n",
              "521            91         76.37500    14.62500\n",
              "737            53         59.03125    -6.03125\n",
              "740            80         76.46875     3.53125\n",
              "660            74         77.09375    -3.09375\n",
              "411            84         87.96875    -3.96875\n",
              "..            ...              ...         ...\n",
              "408            52         43.78125     8.21875\n",
              "332            62         62.43750    -0.43750\n",
              "208            74         67.62500     6.37500\n",
              "613            65         67.03125    -2.03125\n",
              "78             61         62.56250    -1.56250\n",
              "\n",
              "[200 rows x 3 columns]"
            ]
          },
          "execution_count": 19,
          "metadata": {},
          "output_type": "execute_result"
        }
      ],
      "source": [
        "# Difference between Actual and predicted values\n",
        "pred_df = pd.DataFrame({'Actual Value':y_test, 'Predicted Value':y_pred, 'Difference':y_test-y_pred})\n",
        "pred_df"
      ]
    },
    {
      "cell_type": "code",
      "execution_count": null,
      "metadata": {
        "id": "nNu_R59kNW9Z"
      },
      "outputs": [],
      "source": []
    },
    {
      "cell_type": "code",
      "execution_count": null,
      "metadata": {
        "id": "9YF9rSJUNW_6"
      },
      "outputs": [],
      "source": []
    },
    {
      "cell_type": "code",
      "execution_count": null,
      "metadata": {
        "id": "Bp8EMjeSNXEj"
      },
      "outputs": [],
      "source": []
    },
    {
      "cell_type": "code",
      "execution_count": null,
      "metadata": {
        "id": "c3yp0JgGNXG_"
      },
      "outputs": [],
      "source": []
    },
    {
      "cell_type": "code",
      "execution_count": null,
      "metadata": {
        "id": "G9ukOK8zNXJS"
      },
      "outputs": [],
      "source": []
    },
    {
      "cell_type": "code",
      "execution_count": null,
      "metadata": {
        "id": "fbRJG5G3NXL6"
      },
      "outputs": [],
      "source": []
    },
    {
      "cell_type": "code",
      "execution_count": null,
      "metadata": {
        "id": "UOG6qIfPNXOf"
      },
      "outputs": [],
      "source": []
    },
    {
      "cell_type": "code",
      "execution_count": null,
      "metadata": {
        "id": "KgITqhvSNXR8"
      },
      "outputs": [],
      "source": []
    },
    {
      "cell_type": "code",
      "execution_count": null,
      "metadata": {
        "id": "FDDl0Gz-NXUu"
      },
      "outputs": [],
      "source": []
    },
    {
      "cell_type": "code",
      "execution_count": null,
      "metadata": {
        "id": "bdL6FVqONXYL"
      },
      "outputs": [],
      "source": []
    },
    {
      "cell_type": "code",
      "execution_count": null,
      "metadata": {
        "id": "3KFXX7fHNXbO"
      },
      "outputs": [],
      "source": []
    },
    {
      "cell_type": "code",
      "execution_count": null,
      "metadata": {
        "id": "VrIybfNrNXd4"
      },
      "outputs": [],
      "source": []
    },
    {
      "cell_type": "code",
      "execution_count": null,
      "metadata": {
        "id": "dA-kLhd8NXg0"
      },
      "outputs": [],
      "source": []
    },
    {
      "cell_type": "code",
      "execution_count": null,
      "metadata": {
        "id": "znvk2flpNXkE"
      },
      "outputs": [],
      "source": []
    },
    {
      "cell_type": "code",
      "execution_count": null,
      "metadata": {
        "id": "zFoTrWniNXmi"
      },
      "outputs": [],
      "source": []
    },
    {
      "cell_type": "code",
      "execution_count": null,
      "metadata": {
        "id": "BzXP9tBiNXp0"
      },
      "outputs": [],
      "source": []
    },
    {
      "cell_type": "code",
      "execution_count": null,
      "metadata": {
        "id": "hGd4muMvNXsB"
      },
      "outputs": [],
      "source": []
    },
    {
      "cell_type": "code",
      "execution_count": null,
      "metadata": {
        "id": "m9qh1IA8NXvD"
      },
      "outputs": [],
      "source": []
    },
    {
      "cell_type": "code",
      "execution_count": null,
      "metadata": {
        "id": "r4KcojeHNX0V"
      },
      "outputs": [],
      "source": []
    },
    {
      "cell_type": "code",
      "execution_count": null,
      "metadata": {
        "id": "3EZMN4M3NX6e"
      },
      "outputs": [],
      "source": []
    },
    {
      "cell_type": "code",
      "execution_count": null,
      "metadata": {
        "id": "UMiMxRKuNX9E"
      },
      "outputs": [],
      "source": []
    },
    {
      "cell_type": "code",
      "execution_count": null,
      "metadata": {
        "id": "_Hcq2F42NX_5"
      },
      "outputs": [],
      "source": []
    },
    {
      "cell_type": "code",
      "execution_count": null,
      "metadata": {
        "id": "pZ_IjSmlNYCm"
      },
      "outputs": [],
      "source": []
    },
    {
      "cell_type": "code",
      "execution_count": null,
      "metadata": {
        "id": "dF4nPFGrNYEW"
      },
      "outputs": [],
      "source": []
    },
    {
      "cell_type": "code",
      "execution_count": null,
      "metadata": {
        "id": "Og49pxlONYGr"
      },
      "outputs": [],
      "source": []
    },
    {
      "cell_type": "code",
      "execution_count": null,
      "metadata": {
        "id": "0_wIKnthNYJR"
      },
      "outputs": [],
      "source": []
    }
  ],
  "metadata": {
    "colab": {
      "provenance": []
    },
    "kernelspec": {
      "display_name": "Python 3.9.13 ('base')",
      "language": "python",
      "name": "python3"
    },
    "language_info": {
      "codemirror_mode": {
        "name": "ipython",
        "version": 3
      },
      "file_extension": ".py",
      "mimetype": "text/x-python",
      "name": "python",
      "nbconvert_exporter": "python",
      "pygments_lexer": "ipython3",
      "version": "3.9.13"
    },
    "vscode": {
      "interpreter": {
        "hash": "0fb81e4dfa43580d432e7c4304fd8024a2072e9c18f9702b8ec5d84f16870407"
      }
    }
  },
  "nbformat": 4,
  "nbformat_minor": 0
}
